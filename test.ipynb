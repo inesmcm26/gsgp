{
 "cells": [
  {
   "cell_type": "code",
   "execution_count": 1,
   "metadata": {},
   "outputs": [],
   "source": [
    "import numpy as np\n",
    "from math import exp"
   ]
  },
  {
   "cell_type": "code",
   "execution_count": 5,
   "metadata": {},
   "outputs": [],
   "source": [
    "def sigmoid(x):\n",
    "    try:\n",
    "        return exp(x) / (1.0 + exp(x))\n",
    "    except OverflowError:\n",
    "        return 1.0\n",
    "    \n",
    "def safe_division(x, y):\n",
    "    \"\"\"\n",
    "    Custom function to handle division by zero\n",
    "    \"\"\"\n",
    "\n",
    "    return x / y if int(y) != 0 else 1.0"
   ]
  },
  {
   "cell_type": "code",
   "execution_count": 2,
   "metadata": {},
   "outputs": [],
   "source": [
    "target = np.array([3.0, 6.0])"
   ]
  },
  {
   "cell_type": "code",
   "execution_count": 3,
   "metadata": {},
   "outputs": [
    {
     "data": {
      "text/plain": [
       "array([[2., 1.],\n",
       "       [2., 4.]])"
      ]
     },
     "execution_count": 3,
     "metadata": {},
     "output_type": "execute_result"
    }
   ],
   "source": [
    "data = np.array([[2., 1.], [2., 4.]])\n",
    "data"
   ]
  },
  {
   "cell_type": "code",
   "execution_count": null,
   "metadata": {},
   "outputs": [],
   "source": [
    "IND (x0 * sigmoid((safe_division((safe_division(x1, (x1 - x1))), (x1 * x0)))) + (safe_division((x1 + (safe_division(x0, x0))), (safe_division((x0 * x0), (x1 + x1))))) * (1 - sigmoid((safe_division((safe_division(x1, (x1 - x1))), (x1 * x0)))))) FITNESS 3.3066378663844804\n",
    "IND (safe_division((x1 + (safe_division(x0, x0))), (safe_division((x0 * x0), (x1 + x1))))) FITNESS 3.8078865529319543\n",
    "IND ((safe_division((x0 + x0), (x1 - x1))) - x0) FITNESS 5.70087712549569\n",
    "IND ((((safe_division(x1, x1)) - (safe_division(x1, x0))) + x0) * sigmoid((safe_division(((x0 * x0) - x0), x1))) + (safe_division((x1 + (safe_division(x0, x0))), (safe_division((x0 * x0), (x1 + x1))))) * (1 - sigmoid((safe_division(((x0 * x0) - x0), x1))))) FITNESS 3.5679668853862037\n",
    "IND (((safe_division(x1, x1)) - (safe_division(x1, x0))) + x0) FITNESS 3.553167600887974\n",
    "IND ((x1 + x1) * sigmoid(((safe_division(x1, (safe_division(x1, x0)))) + x0)) + (safe_division((x1 + (safe_division(x0, x0))), (safe_division((x0 * x0), (x1 + x1))))) * (1 - sigmoid(((safe_division(x1, (safe_division(x1, x0)))) + x0)))) FITNESS 1.5181137580159214\n",
    "IND (x0 * sigmoid((((safe_division(x0, x1)) - (x1 + x1)) - x1)) + (x1 + x1) * (1 - sigmoid((((safe_division(x0, x1)) - (x1 + x1)) - x1)))) FITNESS 1.5811003895880018\n",
    "IND (x1 + x1) FITNESS 1.5811388300841898\n",
    "IND ((safe_division((x1 + (safe_division(x0, x0))), (safe_division((x0 * x0), (x1 + x1))))) + 0.6786030944219177 * sigmoid((((x0 * x1) * (x0 - x0)) + (safe_division(x0, (safe_division(x0, x0))))) - ((x1 * (safe_division(x0, x0))) * (safe_division((x1 * x0), x1))))) FITNESS 3.724321607305803\n",
    "IND (((safe_division(x1, x1)) - (safe_division(x1, x0))) + x0) FITNESS 3.553167600887974"
   ]
  },
  {
   "cell_type": "code",
   "execution_count": null,
   "metadata": {},
   "outputs": [],
   "source": [
    "((x1 + x1) * sigmoid(((safe_division(x1, (safe_division(x1, x0)))) + x0)) + (safe_division((x1 + (safe_division(x0, x0))), (safe_division((x0 * x0), (x1 + x1))))) * (1 - sigmoid(((safe_division(x1, (safe_division(x1, x0)))) + x0))))"
   ]
  },
  {
   "cell_type": "code",
   "execution_count": null,
   "metadata": {},
   "outputs": [],
   "source": [
    "\n",
    "(x1 + x1) * sigmoid(((safe_division(x1, (safe_division(x1, x0)))) + x0)) [1.905148254, 7.85611032]\n",
    "\n",
    "(x1 + x1) = [2, 8]\n",
    "\n",
    "sigmoid(((safe_division(x1, (safe_division(x1, x0)))) + x0)) [0.952574127, 0.98201379]\n",
    "((safe_division(x1, (safe_division(x1, x0)))) + x0) [3, 4]\n",
    "safe_division(x1, (safe_division(x1, x0))) [1, 2]\n",
    "(safe_division(x1, x0)) [0.5, 2]"
   ]
  },
  {
   "cell_type": "code",
   "execution_count": 29,
   "metadata": {},
   "outputs": [],
   "source": [
    "p1_outputs = []\n",
    "for [x0, x1] in data:\n",
    "    p1_outputs.append((x1 + x1))\n",
    "\n",
    "p2_outputs = []\n",
    "for [x0, x1] in data:\n",
    "    p2_outputs.append(((x1 + x1) * sigmoid(((safe_division(x1, (safe_division(x1, x0)))) + x0)) + (safe_division((x1 + (safe_division(x0, x0))), (safe_division((x0 * x0), (x1 + x1))))) * (1 - sigmoid(((safe_division(x1, (safe_division(x1, x0)))) + x0)))))\n",
    "\n",
    "offspring_outputs = []\n",
    "for [x0, x1] in data:\n",
    "    offspring_outputs.append(((x1 + x1) * 0.4) + ((x1 + x1) * sigmoid(((safe_division(x1, (safe_division(x1, x0)))) + x0)) + (safe_division((x1 + (safe_division(x0, x0))), (safe_division((x0 * x0), (x1 + x1))))) * (1 - sigmoid(((safe_division(x1, (safe_division(x1, x0)))) + x0)))) * (1-0.4))"
   ]
  },
  {
   "cell_type": "code",
   "execution_count": 30,
   "metadata": {},
   "outputs": [
    {
     "data": {
      "text/plain": [
       "[2.0, 8.0]"
      ]
     },
     "execution_count": 30,
     "metadata": {},
     "output_type": "execute_result"
    }
   ],
   "source": [
    "p1_outputs"
   ]
  },
  {
   "cell_type": "code",
   "execution_count": 31,
   "metadata": {},
   "outputs": [
    {
     "data": {
      "text/plain": [
       "[1.9525741268224333, 7.874096530265359]"
      ]
     },
     "execution_count": 31,
     "metadata": {},
     "output_type": "execute_result"
    }
   ],
   "source": [
    "p2_outputs"
   ]
  },
  {
   "cell_type": "code",
   "execution_count": 32,
   "metadata": {},
   "outputs": [
    {
     "data": {
      "text/plain": [
       "[1.97154447609346, 7.924457918159216]"
      ]
     },
     "execution_count": 32,
     "metadata": {},
     "output_type": "execute_result"
    }
   ],
   "source": [
    "offspring_outputs"
   ]
  },
  {
   "cell_type": "code",
   "execution_count": 33,
   "metadata": {},
   "outputs": [
    {
     "data": {
      "image/png": "[encoded data removed]",
      "text/plain": [
       "<Figure size 640x480 with 1 Axes>"
      ]
     },
     "metadata": {},
     "output_type": "display_data"
    }
   ],
   "source": [
    "import matplotlib.pyplot as plt\n",
    "\n",
    "# Define the coordinates of your points\n",
    "x = [p1_outputs[0], p2_outputs[0], offspring_outputs[0]]  # X-coordinates\n",
    "y = [p1_outputs[1], p2_outputs[1], offspring_outputs[1]]  # Y-coordinates\n",
    "\n",
    "labels = ['P1', 'P2', 'Child']  # Labels for the points\n",
    "\n",
    "# Define colors for the points\n",
    "colors = ['red', 'green', 'blue']\n",
    "\n",
    "# Create a scatter plot with different colors and annotations\n",
    "for i in range(len(x)):\n",
    "    plt.scatter(x[i], y[i], label=labels[i], color=colors[i], marker=\"o\")\n",
    "    plt.annotate(labels[i], (x[i], y[i]), textcoords=\"offset points\", xytext=(0,10), ha='center')\n",
    "\n",
    "# Add labels to the axes\n",
    "plt.xlabel(\"X-Axis\")\n",
    "plt.ylabel(\"Y-Axis\")\n",
    "\n",
    "# Add a legend (optional)\n",
    "plt.legend()\n",
    "\n",
    "# Show the plot\n",
    "plt.grid()\n",
    "plt.show()\n"
   ]
  },
  {
   "cell_type": "code",
   "execution_count": null,
   "metadata": {},
   "outputs": [],
   "source": [
    "TARGET [3. 6.]\n",
    "OUTPUT CHILDREN [1.96532891 7.99995778]\n",
    "OUTPUT P1 [2. 8.]\n",
    "OUTPUT P2 [1.95257413 7.87409653]"
   ]
  },
  {
   "cell_type": "code",
   "execution_count": 12,
   "metadata": {},
   "outputs": [
    {
     "data": {
      "text/plain": [
       "<matplotlib.collections.PathCollection at 0x7f0d7163e490>"
      ]
     },
     "execution_count": 12,
     "metadata": {},
     "output_type": "execute_result"
    },
    {
     "data": {
      "image/png": "[encoded data removed]",
      "text/plain": [
       "<Figure size 640x480 with 1 Axes>"
      ]
     },
     "metadata": {},
     "output_type": "display_data"
    }
   ],
   "source": [
    "import matplotlib.pyplot as plt\n",
    "\n",
    "target = np.array([5, 7])\n",
    "\n",
    "points = np.array([[0, 0], [-0.66666667, -1.33333333], [-7, -11], [0.16666667, 0.16666667], [-2, -4]])\n",
    "\n",
    "plt.scatter(points[:, 0], points[:, 1], c = 'r')\n",
    "\n",
    "plt.scatter(target[0], target[1], c = 'b')"
   ]
  },
  {
   "cell_type": "code",
   "execution_count": 9,
   "metadata": {},
   "outputs": [
    {
     "data": {
      "text/plain": [
       "array([2, 2, 1, 1, 1])"
      ]
     },
     "execution_count": 9,
     "metadata": {},
     "output_type": "execute_result"
    }
   ],
   "source": [
    "points[:, 1]"
   ]
  }
 ],
 "metadata": {
  "kernelspec": {
   "display_name": "gsgp",
   "language": "python",
   "name": "python3"
  },
  "language_info": {
   "codemirror_mode": {
    "name": "ipython",
    "version": 3
   },
   "file_extension": ".py",
   "mimetype": "text/x-python",
   "name": "python",
   "nbconvert_exporter": "python",
   "pygments_lexer": "ipython3",
   "version": "3.11.5"
  },
  "orig_nbformat": 4
 },
 "nbformat": 4,
 "nbformat_minor": 2
}
